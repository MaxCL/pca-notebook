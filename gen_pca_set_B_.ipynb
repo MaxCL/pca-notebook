{
 "cells": [
  {
   "cell_type": "code",
   "execution_count": 1,
   "id": "1557d13a-bf07-49b7-a4a1-2392acd332b0",
   "metadata": {},
   "outputs": [],
   "source": [
    "import os\n",
    "from pathlib import Path\n",
    "import numpy as np\n",
    "import pandas as pd\n",
    "import matplotlib.pyplot as plt\n",
    "from sklearn.decomposition import PCA\n",
    "\n",
    "INPUT_FILE = \"input_pca_set_B_.csv\"\n",
    "OUT_DIR = Path(\"pca_set_B\")\n",
    "OUT_DIR.mkdir(parents=True, exist_ok=True)\n",
    "\n",
    "SCREE_PNG = OUT_DIR / \"scree.png\"\n",
    "LOADINGS_PNG = OUT_DIR / \"pca_components_coefficients_plot.png\"\n",
    "BIPLOT_PNG = OUT_DIR / \"pca_biplot_pc1_pc2.png\"\n",
    "CONTRIB_CSV = OUT_DIR / \"pca_contributions_percent.csv\"\n",
    "CONTRIB_MD  = OUT_DIR / \"pca_contributions_percent.md\""
   ]
  },
  {
   "cell_type": "code",
   "execution_count": 2,
   "id": "8faca28c-bb32-479a-8332-d6263cf9905c",
   "metadata": {},
   "outputs": [],
   "source": [
    "if not Path(INPUT_FILE).exists():\n",
    "    raise FileNotFoundError(f\"Could not find {INPUT_FILE}\")\n",
    "\n",
    "df = pd.read_csv(INPUT_FILE)\n",
    "metrics = list(df.columns)\n",
    "X = df.to_numpy(dtype=float)\n",
    "\n",
    "X = X - X.mean(axis=0, keepdims=True)\n",
    "\n",
    "n_components = min(10, X.shape[1])  # up to 10 PCs or number of features\n",
    "pca = PCA(n_components=n_components, svd_solver=\"full\", random_state=0)\n",
    "scores = pca.fit_transform(X)                   # projected samples\n",
    "evr = pca.explained_variance_ratio_             # length = n_components\n",
    "cum_evr = np.cumsum(evr)\n",
    "components = pca.components_                    # shape (n_components, n_features)\n",
    "loadings = components.T                         # shape (n_features, n_components)"
   ]
  },
  {
   "cell_type": "code",
   "execution_count": 3,
   "id": "83497b77-615c-4286-9adf-148ab5666c2c",
   "metadata": {},
   "outputs": [],
   "source": [
    "plt.figure(figsize=(9, 6))\n",
    "xs = np.arange(1, n_components + 1)\n",
    "plt.plot(xs, evr, marker=\"o\", label=\"Explained variance ratio\")\n",
    "plt.plot(xs, cum_evr, marker=\"s\", label=\"Cumulative variance\")\n",
    "plt.xlabel(\"Principal Component\")\n",
    "plt.ylabel(\"Variance Ratio\")\n",
    "plt.title(\"Scree Plot & Cumulative Variance\")\n",
    "plt.xticks(xs)\n",
    "plt.legend()\n",
    "plt.tight_layout()\n",
    "plt.savefig(SCREE_PNG, dpi=300)\n",
    "plt.close()"
   ]
  },
  {
   "cell_type": "code",
   "execution_count": 4,
   "id": "68a96531-bfa8-49f1-b298-b0f131649e32",
   "metadata": {},
   "outputs": [],
   "source": [
    "fig, ax = plt.subplots(figsize=(14, 6))\n",
    "ind = np.arange(len(metrics))\n",
    "width = 0.8 / n_components  # fit all PCs inside each metric slot\n",
    "\n",
    "for j in range(n_components):\n",
    "    ax.bar(ind + j * width, loadings[:, j], width, label=f\"PC{j+1}\")\n",
    "\n",
    "ax.axhline(0, linewidth=1)\n",
    "ax.set_xticks(ind + width * (n_components - 1) / 2)\n",
    "ax.set_xticklabels([m.replace(\"_\", \" \") for m in metrics], rotation=45, ha=\"right\")\n",
    "ax.set_ylabel(\"Coefficient value\")\n",
    "ax.set_title(\"PCA Component Coefficients (loadings directions)\")\n",
    "ax.legend(title=\"Principal Components\", ncols=min(n_components, 5))\n",
    "fig.tight_layout()\n",
    "fig.savefig(LOADINGS_PNG, dpi=300)\n",
    "plt.close(fig)"
   ]
  },
  {
   "cell_type": "code",
   "execution_count": 5,
   "id": "a5c34d6c-ed6b-4830-9225-e36ee1c82374",
   "metadata": {},
   "outputs": [],
   "source": [
    "fig, ax = plt.subplots(figsize=(10, 8))\n",
    "\n",
    "ax.scatter(scores[:, 0], scores[:, 1], marker=\"x\", alpha=0.7, label=\"Samples\")\n",
    "scaled_loadings = loadings[:, :2] * np.sqrt(pca.explained_variance_[:2])\n",
    "\n",
    "score_range = max(np.ptp(scores[:, 0]), np.ptp(scores[:, 1]))\n",
    "arrow_max = np.max(np.linalg.norm(scaled_loadings, axis=1))\n",
    "scale = 0.85 * score_range / (arrow_max if arrow_max > 0 else 1.0)\n",
    "\n",
    "for i, (lx, ly) in enumerate(scaled_loadings):\n",
    "    ax.arrow(0, 0, lx * scale, ly * scale, width=0.0, head_width=0.12,\n",
    "             length_includes_head=True, alpha=0.9, color=\"red\")\n",
    "    ax.text(lx * scale * 1.05, ly * scale * 1.05, metrics[i].replace(\"_\", \" \"),\n",
    "            color=\"red\", ha=\"center\", va=\"center\")\n",
    "\n",
    "ax.axhline(0, color=\"gray\", linewidth=1)\n",
    "ax.axvline(0, color=\"gray\", linewidth=1)\n",
    "ax.set_xlabel(f\"PC1 ({evr[0]*100:.2f}%)\")\n",
    "ax.set_ylabel(f\"PC2 ({evr[1]*100:.2f}%)\")\n",
    "ax.setTitle = \"PCA Biplot (PC1 vs PC2)\"\n",
    "ax.set_title(\"PCA Biplot (PC1 vs PC2)\")\n",
    "ax.legend(loc=\"upper right\")\n",
    "fig.tight_layout()\n",
    "fig.savefig(BIPLOT_PNG, dpi=300)\n",
    "plt.close(fig)"
   ]
  },
  {
   "cell_type": "code",
   "execution_count": 6,
   "id": "8cfa08b8-4584-42c7-97a5-c74202e145cd",
   "metadata": {},
   "outputs": [
    {
     "name": "stdout",
     "output_type": "stream",
     "text": [
      "Column sums (%): [100.    99.99 100.   100.   100.   100.  ]\n",
      "\n",
      "Saved outputs in: /home/max/gits/pca-notebook/pca_set_B\n",
      " - pca_set_B/scree.png\n",
      " - pca_set_B/pca_components_coefficients_plot.png\n",
      " - pca_set_B/pca_biplot_pc1_pc2.png\n",
      " - pca_set_B/pca_contributions_percent.csv\n",
      " - pca_set_B/pca_contributions_percent.md\n"
     ]
    }
   ],
   "source": [
    "sq_loadings = loadings ** 2                                 # (features x components)\n",
    "col_sums = sq_loadings.sum(axis=0, keepdims=True)           # (1 x components)\n",
    "contrib = (sq_loadings / np.where(col_sums == 0, 1, col_sums)) * 100.0\n",
    "\n",
    "k = min(6, contrib.shape[1])\n",
    "contrib_k = contrib[:, :k]\n",
    "\n",
    "contrib_df = pd.DataFrame(contrib_k, index=metrics,\n",
    "                          columns=[f\"PC{i+1}\" for i in range(k)]).round(2)\n",
    "\n",
    "contrib_df.to_csv(CONTRIB_CSV, index_label=\"Metric\")\n",
    "\n",
    "with open(CONTRIB_MD, \"w\", encoding=\"utf-8\") as f:\n",
    "    f.write(\"| Metric | \" + \" | \".join(contrib_df.columns) + \" |\\n\")\n",
    "    f.write(\"|\" + \" --- |\" * (len(contrib_df.columns) + 1) + \"\\n\")\n",
    "    for metric, row in contrib_df.iterrows():\n",
    "        f.write(\"| **\" + metric.replace(\"_\", \"\\\\_\") + \"** | \" +\n",
    "                \" | \".join(f\"{val:.2f}\" for val in row.values) + \" |\\n\")\n",
    "\n",
    "print(\"Column sums (%):\", np.round(contrib_df.sum(axis=0).values, 2))\n",
    "\n",
    "print(\"\\nSaved outputs in:\", OUT_DIR.resolve())\n",
    "for p in [SCREE_PNG, LOADINGS_PNG, BIPLOT_PNG, CONTRIB_CSV, CONTRIB_MD]:\n",
    "    print(\" -\", p)"
   ]
  }
 ],
 "metadata": {
  "kernelspec": {
   "display_name": "Python 3 (ipykernel)",
   "language": "python",
   "name": "python3"
  },
  "language_info": {
   "codemirror_mode": {
    "name": "ipython",
    "version": 3
   },
   "file_extension": ".py",
   "mimetype": "text/x-python",
   "name": "python",
   "nbconvert_exporter": "python",
   "pygments_lexer": "ipython3",
   "version": "3.13.5"
  }
 },
 "nbformat": 4,
 "nbformat_minor": 5
}
