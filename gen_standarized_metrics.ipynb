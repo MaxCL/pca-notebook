{
 "cells": [
  {
   "cell_type": "code",
   "execution_count": 1,
   "id": "9f3a3e87-3ca1-468f-bd52-4dcca525563e",
   "metadata": {},
   "outputs": [],
   "source": [
    "import pandas as pd\n",
    "import numpy as np\n",
    "\n",
    "IN_PATH = \"all_metrics_noise_coupling.csv\"\n",
    "OUT_PATH = \"all_metrics_standarized.csv\""
   ]
  },
  {
   "cell_type": "code",
   "execution_count": 2,
   "id": "089efc38-6a2c-4ee6-9b54-3c3ca8a5cb3f",
   "metadata": {},
   "outputs": [],
   "source": [
    "na_vals = [\"NaN\", \"nan\", \"NAN\", \"na\", \"NA\", \"Null\", \"NULL\", \"\", \" \"]\n",
    "df = pd.read_csv(IN_PATH, na_values=na_vals, keep_default_na=True)"
   ]
  },
  {
   "cell_type": "code",
   "execution_count": 3,
   "id": "e00c0cfa-e362-4784-8943-4b3662161cca",
   "metadata": {},
   "outputs": [
    {
     "name": "stdout",
     "output_type": "stream",
     "text": [
      "Original columns:\n",
      "['noise', 'coupling', 'conn_complex', 'cv', 'cv2', 'isi_distance', 'max_cluster', 'mean_firing_rate', 'pearson_correlation', 'fano_factor', 'spike_contrast', 'spike_distance', 'spike_sync', 'largest_assembly', 'assembly_variety']\n"
     ]
    }
   ],
   "source": [
    "print(\"Original columns:\")\n",
    "print(list(df.columns))"
   ]
  },
  {
   "cell_type": "code",
   "execution_count": 4,
   "id": "28eb4875-1731-4e1b-9f04-77d36ea99dd0",
   "metadata": {},
   "outputs": [],
   "source": [
    "df = df.drop(columns=[c for c in (\"noise\", \"coupling\") if c in df.columns], errors=\"ignore\")\n",
    "df = df.apply(pd.to_numeric, errors=\"coerce\")\n",
    "means = df.mean()\n",
    "df_filled = df.fillna(means)\n",
    "\n",
    "stds = df_filled.std(ddof=1)\n",
    "\n",
    "stds_safe = stds.replace(0, np.nan)\n",
    "df_std = (df_filled - means) / stds_safe\n",
    "\n",
    "df_std = df_std.fillna(0.0)\n",
    "\n",
    "df_std.to_csv(OUT_PATH, index=False)"
   ]
  }
 ],
 "metadata": {
  "kernelspec": {
   "display_name": "Python 3 (ipykernel)",
   "language": "python",
   "name": "python3"
  },
  "language_info": {
   "codemirror_mode": {
    "name": "ipython",
    "version": 3
   },
   "file_extension": ".py",
   "mimetype": "text/x-python",
   "name": "python",
   "nbconvert_exporter": "python",
   "pygments_lexer": "ipython3",
   "version": "3.13.5"
  }
 },
 "nbformat": 4,
 "nbformat_minor": 5
}
