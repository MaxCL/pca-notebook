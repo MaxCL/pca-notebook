{
 "cells": [
  {
   "cell_type": "code",
   "execution_count": 1,
   "id": "b2451a0f-2bfa-4195-88ca-35e9e8d69999",
   "metadata": {},
   "outputs": [],
   "source": [
    "from pathlib import Path\n",
    "import numpy as np\n",
    "import pandas as pd\n",
    "from sklearn.decomposition import PCA\n",
    "\n",
    "IN_A = Path(\"input_pca_set_A_.csv\")\n",
    "IN_B = Path(\"input_pca_set_B_.csv\")"
   ]
  },
  {
   "cell_type": "code",
   "execution_count": 2,
   "id": "ac29cb5e-2f6c-41f5-9b4a-385f3365addd",
   "metadata": {},
   "outputs": [],
   "source": [
    "def load_numeric_df(path: Path) -> tuple[pd.DataFrame, list[str]]:\n",
    "    df = pd.read_csv(path)\n",
    "    num = df.select_dtypes(include=[np.number]).copy()\n",
    "    num = num.dropna(axis=0, how=\"any\")\n",
    "    return num, list(num.columns)"
   ]
  },
  {
   "cell_type": "code",
   "execution_count": 3,
   "id": "97143475-bdf6-4547-9f4f-e88ffaa8f161",
   "metadata": {},
   "outputs": [],
   "source": [
    "def run_pca_sklearn(X: np.ndarray) -> tuple[np.ndarray, np.ndarray, np.ndarray, np.ndarray]:\n",
    "    n_components = min(X.shape[0], X.shape[1])\n",
    "    pca = PCA(n_components=n_components, svd_solver=\"full\")\n",
    "    scores = pca.fit_transform(X)                          # U * S (sample × component)\n",
    "    loadings = pca.components_.T                           # feature × component\n",
    "    ev = pca.explained_variance_\n",
    "    evr = pca.explained_variance_ratio_\n",
    "    return scores, loadings, ev, evr"
   ]
  },
  {
   "cell_type": "code",
   "execution_count": 4,
   "id": "49bc3fc6-5046-4e65-b34e-72b6101dcd1c",
   "metadata": {},
   "outputs": [],
   "source": [
    "def save_pca_outputs(prefix: str, numeric_df: pd.DataFrame, feature_names: list[str]) -> None:\n",
    "    \"\"\"\n",
    "    Save PC scores, loadings, and explained variance tables to CSV.\n",
    "    \"\"\"\n",
    "    X = numeric_df.values\n",
    "    scores, loadings, ev, evr = run_pca_sklearn(X)\n",
    "\n",
    "    k = scores.shape[1]\n",
    "    pc_cols = [f\"PC{i}\" for i in range(1, k + 1)]\n",
    "\n",
    "    # 1) Principal components (scores): same row-index as input\n",
    "    scores_df = pd.DataFrame(scores, index=numeric_df.index, columns=pc_cols)\n",
    "    scores_df.to_csv(f\"{prefix}_principal_components.csv\", index_label=\"row_index\")\n",
    "\n",
    "    # 2) Loadings: rows = features, cols = PCs\n",
    "    loadings_df = pd.DataFrame(loadings, index=feature_names, columns=pc_cols)\n",
    "    loadings_df.to_csv(f\"{prefix}_pca_loadings.csv\", index_label=\"feature\")\n",
    "\n",
    "    # 3) Explained variance and ratio\n",
    "    ev_df = pd.DataFrame(\n",
    "        {\"explained_variance\": ev, \"explained_variance_ratio\": evr},\n",
    "        index=pc_cols,\n",
    "    )\n",
    "    ev_df.to_csv(f\"{prefix}_explained_variance.csv\", index_label=\"component\")\n",
    "\n",
    "    print(f\"Wrote: {prefix}_principal_components.csv\")\n",
    "    print(f\"Wrote: {prefix}_pca_loadings.csv\")\n",
    "    print(f\"Wrote: {prefix}_explained_variance.csv\")"
   ]
  },
  {
   "cell_type": "code",
   "execution_count": 5,
   "id": "f8ac2984-e38b-4ed6-be52-68cb1de02a3e",
   "metadata": {},
   "outputs": [
    {
     "name": "stdout",
     "output_type": "stream",
     "text": [
      "Wrote: set_A_principal_components.csv\n",
      "Wrote: set_A_pca_loadings.csv\n",
      "Wrote: set_A_explained_variance.csv\n",
      "Wrote: set_B_principal_components.csv\n",
      "Wrote: set_B_pca_loadings.csv\n",
      "Wrote: set_B_explained_variance.csv\n"
     ]
    }
   ],
   "source": [
    "dfA, featsA = load_numeric_df(IN_A)\n",
    "dfB, featsB = load_numeric_df(IN_B)\n",
    "\n",
    "save_pca_outputs(\"set_A\", dfA, featsA)\n",
    "save_pca_outputs(\"set_B\", dfB, featsB)"
   ]
  },
  {
   "cell_type": "code",
   "execution_count": null,
   "id": "fe71744a-e809-4a77-b34b-87fcaf90c349",
   "metadata": {},
   "outputs": [],
   "source": []
  }
 ],
 "metadata": {
  "kernelspec": {
   "display_name": "Python 3 (ipykernel)",
   "language": "python",
   "name": "python3"
  },
  "language_info": {
   "codemirror_mode": {
    "name": "ipython",
    "version": 3
   },
   "file_extension": ".py",
   "mimetype": "text/x-python",
   "name": "python",
   "nbconvert_exporter": "python",
   "pygments_lexer": "ipython3",
   "version": "3.13.5"
  }
 },
 "nbformat": 4,
 "nbformat_minor": 5
}
